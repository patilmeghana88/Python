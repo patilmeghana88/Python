{
 "cells": [
  {
   "cell_type": "code",
   "execution_count": 1,
   "metadata": {},
   "outputs": [
    {
     "name": "stdout",
     "output_type": "stream",
     "text": [
      "file = open(\"example.txt\", \"r\")\n",
      "content = file.read()\n",
      "print(content)\n",
      "file.close()\n"
     ]
    }
   ],
   "source": [
    "file = open(\"example.txt\", \"r\")\n",
    "content = file.read()\n",
    "print(content)\n",
    "file.close()\n"
   ]
  },
  {
   "cell_type": "code",
   "execution_count": 2,
   "metadata": {},
   "outputs": [],
   "source": [
    "file = open(\"example1.text\",\"w\")\n",
    "file.write(\"Welcome to the python session with satya!\")\n",
    "file.close()\n"
   ]
  },
  {
   "cell_type": "code",
   "execution_count": 3,
   "metadata": {},
   "outputs": [],
   "source": [
    "#writing in the append mode\n",
    "file = open(\"example1.text\",\"a\")\n",
    "file.write(\"we are appending new line in example1.text file\")\n",
    "file.close()\n"
   ]
  },
  {
   "cell_type": "code",
   "execution_count": 6,
   "metadata": {},
   "outputs": [
    {
     "name": "stdout",
     "output_type": "stream",
     "text": [
      "The sum of the number is: 225\n"
     ]
    }
   ],
   "source": [
    "#reads data from a file and processes it\n",
    "file = open(\"data.txt\",\"r\")\n",
    "total = 0\n",
    "\n",
    "#data.txt contains a list of numbers,one per line\n",
    "for line in file:\n",
    "    total += int(line.strip()) #this is going to convert each line to an integer and adds to total\n",
    "    \n",
    "#prints the total sum  while closing the file to release memory\n",
    "file.close()\n",
    "print(\"The sum of the number is:\",total)"
   ]
  }
 ],
 "metadata": {
  "kernelspec": {
   "display_name": "Python 3",
   "language": "python",
   "name": "python3"
  },
  "language_info": {
   "codemirror_mode": {
    "name": "ipython",
    "version": 3
   },
   "file_extension": ".py",
   "mimetype": "text/x-python",
   "name": "python",
   "nbconvert_exporter": "python",
   "pygments_lexer": "ipython3",
   "version": "3.12.1"
  }
 },
 "nbformat": 4,
 "nbformat_minor": 2
}
