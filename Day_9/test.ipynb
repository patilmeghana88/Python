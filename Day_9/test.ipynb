{
 "cells": [
  {
   "cell_type": "code",
   "execution_count": 1,
   "metadata": {},
   "outputs": [
    {
     "name": "stdout",
     "output_type": "stream",
     "text": [
      "1.0\n"
     ]
    }
   ],
   "source": [
    "import math\n",
    "#Calculate the cosine of 0\n",
    "\n",
    "cos_value = math.cos(0)\n",
    "print(cos_value)\n"
   ]
  },
  {
   "cell_type": "code",
   "execution_count": 2,
   "metadata": {},
   "outputs": [
    {
     "name": "stdout",
     "output_type": "stream",
     "text": [
      "2024-10-04 04:42:14.298925\n"
     ]
    }
   ],
   "source": [
    "import datetime\n",
    "#Get the current date and time\n",
    "\n",
    "current_time = datetime.datetime.now()\n",
    "print(current_time)\n"
   ]
  },
  {
   "cell_type": "code",
   "execution_count": null,
   "metadata": {},
   "outputs": [],
   "source": []
  },
  {
   "cell_type": "code",
   "execution_count": 7,
   "metadata": {},
   "outputs": [
    {
     "name": "stdout",
     "output_type": "stream",
     "text": [
      "['/workspaces/Python/.venv/lib/python3.12/site-packages/ipykernel_launcher.py', '--f=/home/codespace/.local/share/jupyter/runtime/kernel-v3fda61631d4c3d4f7d791aa5607eb405d0fbb797b.json']\n"
     ]
    }
   ],
   "source": [
    "import sys\n",
    "#Get the list of command-line arguments\n",
    "arguments = sys.argv\n",
    "print(arguments)"
   ]
  },
  {
   "cell_type": "code",
   "execution_count": 1,
   "metadata": {},
   "outputs": [
    {
     "name": "stdout",
     "output_type": "stream",
     "text": [
      "['/workspaces/Python/.venv/lib/python3.12/site-packages/ipykernel_launcher.py', '--f=/home/codespace/.local/share/jupyter/runtime/kernel-v370c547796bc35ac217e9333a2485c39df07cbb1e.json']\n"
     ]
    }
   ],
   "source": [
    "import sys\n",
    "#Get the list of command-line arguments\n",
    "arguments = sys.argv\n",
    "print(arguments)"
   ]
  },
  {
   "cell_type": "code",
   "execution_count": 2,
   "metadata": {},
   "outputs": [
    {
     "name": "stdout",
     "output_type": "stream",
     "text": [
      "Sqaure root of 30: 5.477225575051661\n",
      "Current date and time: 2024-10-04 05:33:06.257915\n",
      "Current working directory: /workspaces/Python/Day_9\n"
     ]
    }
   ],
   "source": [
    "#Write a simple program that calculates the square root of a number.\n",
    "\n",
    "#2. Prints the current date and time.\n",
    "\n",
    "#3 And displays the current working directory\n",
    "\n",
    "import math\n",
    "import datetime\n",
    "import os\n",
    "#Calculate the square root of 30.\n",
    "sqrt_value = math.sqrt(30)\n",
    "print(f\"Sqaure root of 30: {sqrt_value}\")\n",
    "\n",
    "#Get the current date and time\n",
    "current_time = datetime.datetime.now()\n",
    "print(f\"Current date and time: {current_time}\")\n",
    "\n",
    "#Displays the current working directory\n",
    "current_directory = os.getcwd()\n",
    "print(f\"Current working directory: {current_directory}\")"
   ]
  }
 ],
 "metadata": {
  "kernelspec": {
   "display_name": ".venv",
   "language": "python",
   "name": "python3"
  },
  "language_info": {
   "codemirror_mode": {
    "name": "ipython",
    "version": 3
   },
   "file_extension": ".py",
   "mimetype": "text/x-python",
   "name": "python",
   "nbconvert_exporter": "python",
   "pygments_lexer": "ipython3",
   "version": "3.12.1"
  }
 },
 "nbformat": 4,
 "nbformat_minor": 2
}
